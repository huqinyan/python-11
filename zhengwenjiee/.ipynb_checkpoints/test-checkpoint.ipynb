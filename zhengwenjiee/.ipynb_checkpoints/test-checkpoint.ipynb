{
 "cells": [
  {
   "cell_type": "markdown",
   "metadata": {},
   "source": [
    "1 实现一个函数用于判断字符串str2 是否是str1但子串。 如果是， 则该函数返回str2在str1中首次出现的地址；否则， 返回None"
   ]
  },
  {
   "cell_type": "code",
   "execution_count": 71,
   "metadata": {},
   "outputs": [
    {
     "data": {
      "text/plain": [
       "True"
      ]
     },
     "execution_count": 71,
     "metadata": {},
     "output_type": "execute_result"
    }
   ],
   "source": [
    "str1 = \"0123abc*&^\"\n",
    "\n",
    "str2 =\" #@eKwjr''owj rojg#0123abc*&^HKUoaejo;arji2[\\239089@#%#$!ojo;aje'aw jrjwaojaojro;j\"\n",
    "\n",
    "# if st1 in st2 return ture\n",
    "def is_in_there(st1, st2):\n",
    "    if st1 in st2:\n",
    "        return st2.find(st1[0])\n",
    "    else:\n",
    "        return None\n",
    "\n",
    "str2.find('0123abc*&^') == is_in_there(str1, str2)"
   ]
  },
  {
   "cell_type": "markdown",
   "metadata": {},
   "source": [
    "1 Find pairs with given sum"
   ]
  },
  {
   "cell_type": "code",
   "execution_count": 67,
   "metadata": {},
   "outputs": [
    {
     "name": "stdout",
     "output_type": "stream",
     "text": [
      "-2\n",
      "[9, 1, 10, 10, 9, 2, -2, 2, -2, 7, -4, 8]\n"
     ]
    }
   ],
   "source": [
    "import random\n",
    "\n",
    "_list = [random.randint(-4, 10) for x in range(12)]\n",
    "_sum = random.choice(_list)\n",
    "\n",
    "print(_sum)\n",
    "print(_list)"
   ]
  },
  {
   "cell_type": "code",
   "execution_count": 65,
   "metadata": {},
   "outputs": [
    {
     "data": {
      "text/plain": [
       "[]"
      ]
     },
     "execution_count": 65,
     "metadata": {},
     "output_type": "execute_result"
    }
   ],
   "source": [
    "def find_pair(arr, _sum):\n",
    "     \n",
    "    return pair  \n",
    "\n",
    "\n",
    "find_pair(_list, _sum)\n"
   ]
  },
  {
   "cell_type": "code",
   "execution_count": null,
   "metadata": {},
   "outputs": [],
   "source": []
  },
  {
   "cell_type": "code",
   "execution_count": null,
   "metadata": {},
   "outputs": [],
   "source": []
  }
 ],
 "metadata": {
  "kernelspec": {
   "display_name": "Python 3",
   "language": "python",
   "name": "python3"
  },
  "language_info": {
   "codemirror_mode": {
    "name": "ipython",
    "version": 3
   },
   "file_extension": ".py",
   "mimetype": "text/x-python",
   "name": "python",
   "nbconvert_exporter": "python",
   "pygments_lexer": "ipython3",
   "version": "3.6.3"
  }
 },
 "nbformat": 4,
 "nbformat_minor": 2
}
